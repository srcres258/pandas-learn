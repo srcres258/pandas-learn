{
 "cells": [
  {
   "cell_type": "code",
   "id": "initial_id",
   "metadata": {
    "collapsed": true
   },
   "source": "import pandas as pd",
   "outputs": [],
   "execution_count": null
  },
  {
   "metadata": {},
   "cell_type": "code",
   "source": "df = pd.read_csv('run/test_2.csv')",
   "id": "9b24e7f11beef78e",
   "outputs": [],
   "execution_count": null
  },
  {
   "metadata": {},
   "cell_type": "code",
   "source": [
    "def get_num_range(x):\n",
    "    if x['num'] > 10:\n",
    "        return \"high\"\n",
    "    elif x['num'] > 5:\n",
    "        return \"medium\"\n",
    "    return \"low\"\n",
    "\n",
    "df.loc[:, 'num_range'] = df.apply(get_num_range, axis=1)"
   ],
   "id": "9fa4b3ebbd308a08",
   "outputs": [],
   "execution_count": null
  },
  {
   "metadata": {},
   "cell_type": "code",
   "source": "df['num_range'].value_counts()",
   "id": "6880e10f598175ca",
   "outputs": [],
   "execution_count": null
  },
  {
   "metadata": {},
   "cell_type": "code",
   "source": [
    "df.assign(\n",
    "    num_shifted_1 = lambda x: x['num'] + 2,\n",
    "    num_shifted_2 = lambda x: x['num'] * 5 + 2\n",
    ")"
   ],
   "id": "2480ff0aee74edc4",
   "outputs": [],
   "execution_count": null
  },
  {
   "metadata": {},
   "cell_type": "code",
   "source": [
    "df.loc[df['num']>=20, 'num_level'] = 1\n",
    "df.loc[df['num']<20, 'num_level'] = 0"
   ],
   "id": "53be9eb0ce72a385",
   "outputs": [],
   "execution_count": null
  },
  {
   "metadata": {},
   "cell_type": "code",
   "source": "df['num_level'].value_counts()",
   "id": "2521b67705078f71",
   "outputs": [],
   "execution_count": null
  },
  {
   "metadata": {},
   "cell_type": "code",
   "source": "",
   "id": "2168c342cc009b81",
   "outputs": [],
   "execution_count": null
  }
 ],
 "metadata": {
  "kernelspec": {
   "display_name": "Python 3",
   "language": "python",
   "name": "python3"
  },
  "language_info": {
   "codemirror_mode": {
    "name": "ipython",
    "version": 2
   },
   "file_extension": ".py",
   "mimetype": "text/x-python",
   "name": "python",
   "nbconvert_exporter": "python",
   "pygments_lexer": "ipython2",
   "version": "2.7.6"
  }
 },
 "nbformat": 4,
 "nbformat_minor": 5
}
