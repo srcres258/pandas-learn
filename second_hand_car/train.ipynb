{
 "cells": [
  {
   "cell_type": "code",
   "execution_count": 26,
   "metadata": {},
   "outputs": [],
   "source": [
    "import pandas as pd\n",
    "import numpy as np\n",
    "from torch import nn, optim\n",
    "import torch\n",
    "import matplotlib.pyplot as plt"
   ]
  },
  {
   "cell_type": "code",
   "execution_count": 27,
   "metadata": {},
   "outputs": [],
   "source": [
    "config = {\n",
    "    'epoch': 10,\n",
    "    'batch_size': 512,\n",
    "    'learning_rate': 8e-3,\n",
    "    'device': 'cuda',\n",
    "    \"num_cols\": ['regDate', 'creatDate', 'power', 'kilometer', 'v_0', 'v_1', 'v_2', 'v_3', 'v_4', 'v_5', 'v_6', 'v_7', 'v_8', 'v_9', 'v_10',\n",
    "                 'v_11', 'v_12', 'v_13', 'v_14'],\n",
    "    \"cate_cols\": ['model', 'brand', 'bodyType', 'fuelType', 'gearbox', 'seller', 'notRepairedDamage']\n",
    "}"
   ]
  },
  {
   "cell_type": "code",
   "execution_count": 28,
   "metadata": {},
   "outputs": [
    {
     "data": {
      "text/plain": [
       "(50000, 30)"
      ]
     },
     "execution_count": 28,
     "metadata": {},
     "output_type": "execute_result"
    }
   ],
   "source": [
    "test_data = pd.read_csv('/gemini/data-1/used_car_testB_20200421.csv', sep=' ')\n",
    "test_data.shape"
   ]
  },
  {
   "cell_type": "code",
   "execution_count": 29,
   "metadata": {},
   "outputs": [
    {
     "data": {
      "text/plain": [
       "(150000, 31)"
      ]
     },
     "execution_count": 29,
     "metadata": {},
     "output_type": "execute_result"
    }
   ],
   "source": [
    "# 导入数据\n",
    "train_data = pd.read_csv('/gemini/data-1/used_car_train_20200313.csv', sep=' ')\n",
    "train_data.shape"
   ]
  },
  {
   "cell_type": "code",
   "execution_count": 30,
   "metadata": {},
   "outputs": [
    {
     "name": "stderr",
     "output_type": "stream",
     "text": [
      "/opt/conda/lib/python3.6/site-packages/ipykernel_launcher.py:2: FutureWarning: Sorting because non-concatenation axis is not aligned. A future version\n",
      "of pandas will change to not sort by default.\n",
      "\n",
      "To accept the future behavior, pass 'sort=False'.\n",
      "\n",
      "To retain the current behavior and silence the warning, pass 'sort=True'.\n",
      "\n",
      "  \n"
     ]
    },
    {
     "data": {
      "text/plain": [
       "(200000, 31)"
      ]
     },
     "execution_count": 30,
     "metadata": {},
     "output_type": "execute_result"
    }
   ],
   "source": [
    "# 合并数据\n",
    "data = pd.concat([train_data, test_data])\n",
    "data.shape"
   ]
  },
  {
   "cell_type": "code",
   "execution_count": 31,
   "metadata": {},
   "outputs": [],
   "source": [
    "# 定义One-Hot编码函数\n",
    "def oneHotEncode(df, colNames):\n",
    "    for col in colNames:\n",
    "        dummies = pd.get_dummies(df[col], prefix=col)\n",
    "        df = pd.concat([df, dummies],axis=1)\n",
    "        df.drop([col], axis=1, inplace=True)\n",
    "    return df"
   ]
  },
  {
   "cell_type": "code",
   "execution_count": 32,
   "metadata": {},
   "outputs": [
    {
     "data": {
      "text/plain": [
       "Index(['SaleID', 'bodyType', 'brand', 'creatDate', 'fuelType', 'gearbox',\n",
       "       'kilometer', 'model', 'name', 'notRepairedDamage', 'offerType', 'power',\n",
       "       'price', 'regDate', 'regionCode', 'seller', 'v_0', 'v_1', 'v_10',\n",
       "       'v_11', 'v_12', 'v_13', 'v_14', 'v_2', 'v_3', 'v_4', 'v_5', 'v_6',\n",
       "       'v_7', 'v_8', 'v_9'],\n",
       "      dtype='object')"
      ]
     },
     "execution_count": 32,
     "metadata": {},
     "output_type": "execute_result"
    }
   ],
   "source": [
    "data.columns"
   ]
  },
  {
   "cell_type": "code",
   "execution_count": 33,
   "metadata": {},
   "outputs": [],
   "source": [
    "data = data.replace('-', '-1')\n",
    "data.notRepairedDamage = data.notRepairedDamage.astype('float32')\n",
    "data.loc[data['power']>600,'power'] = 600"
   ]
  },
  {
   "cell_type": "code",
   "execution_count": 34,
   "metadata": {},
   "outputs": [
    {
     "data": {
      "text/plain": [
       "Index(['SaleID', 'creatDate', 'kilometer', 'offerType', 'power', 'price',\n",
       "       'regDate', 'v_0', 'v_1', 'v_10',\n",
       "       ...\n",
       "       'fuelType_6.0', 'fuelType_-1', 'gearbox_0.0', 'gearbox_1.0',\n",
       "       'gearbox_-1', 'seller_0', 'seller_1', 'notRepairedDamage_-1.0',\n",
       "       'notRepairedDamage_0.0', 'notRepairedDamage_1.0'],\n",
       "      dtype='object', length=336)"
      ]
     },
     "execution_count": 34,
     "metadata": {},
     "output_type": "execute_result"
    }
   ],
   "source": [
    "# 处理离散数据\n",
    "for col in config['cate_cols']:\n",
    "    data[col] = data[col].fillna('-1')\n",
    "data = oneHotEncode(data, config['cate_cols'])\n",
    "\n",
    "# 处理连续数据\n",
    "for col in config['num_cols']:\n",
    "    data[col] = data[col].fillna(0)\n",
    "    data[col] = (data[col]-data[col].min()) / (data[col].max()-data[col].min())\n",
    "\n",
    "# 处理(可能)无关数据 \n",
    "data.drop(['name', 'regionCode'], axis=1, inplace=True)\n",
    "\n",
    "data.columns"
   ]
  },
  {
   "cell_type": "code",
   "execution_count": 35,
   "metadata": {},
   "outputs": [],
   "source": [
    "# 暂存处理后的test数据集\n",
    "test_data = data[pd.isna(data.price)]\n",
    "test_data.to_csv('./one_hot_testB.csv')"
   ]
  },
  {
   "cell_type": "code",
   "execution_count": 36,
   "metadata": {},
   "outputs": [
    {
     "data": {
      "text/plain": [
       "(150000, 337)"
      ]
     },
     "execution_count": 36,
     "metadata": {},
     "output_type": "execute_result"
    }
   ],
   "source": [
    "# 删除test数据(price is nan)\n",
    "data.reset_index(inplace=True)\n",
    "train_data = data\n",
    "train_data = train_data.drop(data[pd.isna(data.price)].index)\n",
    "train_data.shape"
   ]
  },
  {
   "cell_type": "code",
   "execution_count": 37,
   "metadata": {},
   "outputs": [],
   "source": [
    "# 删除ID\n",
    "train_data.drop(['SaleID'], axis=1, inplace=True)\n",
    "# 打乱\n",
    "train_data = train_data.sample(frac=1)"
   ]
  },
  {
   "cell_type": "code",
   "execution_count": 38,
   "metadata": {
    "scrolled": true
   },
   "outputs": [
    {
     "data": {
      "text/plain": [
       "(150000, 336)"
      ]
     },
     "execution_count": 38,
     "metadata": {},
     "output_type": "execute_result"
    }
   ],
   "source": [
    "train_data.shape"
   ]
  },
  {
   "cell_type": "code",
   "execution_count": 39,
   "metadata": {},
   "outputs": [],
   "source": [
    "# 分离目标\n",
    "train_target = train_data['price']\n",
    "train_data.drop(['price', 'index'], axis=1, inplace=True)"
   ]
  },
  {
   "cell_type": "code",
   "execution_count": 40,
   "metadata": {},
   "outputs": [],
   "source": [
    "# 分离出验证集，用于观察拟合情况\n",
    "validation_data = train_data[:10000]\n",
    "train_data = train_data[10000:]\n",
    "validation_target = train_target[:10000]\n",
    "train_target = train_target[10000:]"
   ]
  },
  {
   "cell_type": "code",
   "execution_count": 41,
   "metadata": {},
   "outputs": [
    {
     "data": {
      "text/plain": [
       "((10000, 334), (140000, 334), (10000,), (140000,))"
      ]
     },
     "execution_count": 41,
     "metadata": {},
     "output_type": "execute_result"
    }
   ],
   "source": [
    "validation_data.shape, train_data.shape, validation_target.shape, train_target.shape"
   ]
  },
  {
   "cell_type": "code",
   "execution_count": 42,
   "metadata": {},
   "outputs": [
    {
     "data": {
      "text/plain": [
       "Index(['creatDate', 'kilometer', 'offerType', 'power', 'regDate', 'v_0', 'v_1',\n",
       "       'v_10', 'v_11', 'v_12',\n",
       "       ...\n",
       "       'fuelType_6.0', 'fuelType_-1', 'gearbox_0.0', 'gearbox_1.0',\n",
       "       'gearbox_-1', 'seller_0', 'seller_1', 'notRepairedDamage_-1.0',\n",
       "       'notRepairedDamage_0.0', 'notRepairedDamage_1.0'],\n",
       "      dtype='object', length=334)"
      ]
     },
     "execution_count": 42,
     "metadata": {},
     "output_type": "execute_result"
    }
   ],
   "source": [
    "train_data.columns"
   ]
  },
  {
   "cell_type": "code",
   "execution_count": 43,
   "metadata": {},
   "outputs": [],
   "source": [
    "# 定义网络结构\n",
    "class Network(nn.Module):\n",
    "    def __init__(self, in_dim, hidden_1, hidden_2, hidden_3, hidden_4):\n",
    "        super().__init__()\n",
    "        self.layers = nn.Sequential(\n",
    "            nn.Linear(in_dim, hidden_1),\n",
    "            nn.BatchNorm1d(hidden_1),\n",
    "            nn.ReLU(),\n",
    "            nn.Linear(hidden_1, hidden_2),\n",
    "            nn.BatchNorm1d(hidden_2),\n",
    "            nn.ReLU(),\n",
    "            nn.Linear(hidden_2, hidden_3),\n",
    "            nn.BatchNorm1d(hidden_3),\n",
    "            nn.ReLU(),\n",
    "            nn.Linear(hidden_3, hidden_4),\n",
    "            nn.BatchNorm1d(hidden_4),\n",
    "            nn.ReLU(),\n",
    "            nn.Linear(hidden_4, 1)\n",
    "        )\n",
    "\n",
    "    def forward(self, x):\n",
    "        y = self.layers(x)\n",
    "        return y"
   ]
  },
  {
   "cell_type": "code",
   "execution_count": 44,
   "metadata": {},
   "outputs": [
    {
     "name": "stdout",
     "output_type": "stream",
     "text": [
      "Linear(in_features=334, out_features=256, bias=True)\n",
      "Linear(in_features=256, out_features=256, bias=True)\n",
      "Linear(in_features=256, out_features=256, bias=True)\n",
      "Linear(in_features=256, out_features=32, bias=True)\n",
      "Linear(in_features=32, out_features=1, bias=True)\n"
     ]
    }
   ],
   "source": [
    "# 定义网络\n",
    "model = Network(train_data.shape[1], 256, 256, 256, 32)\n",
    "model.to(config['device'])\n",
    "\n",
    "# 使用Xavier初始化权重\n",
    "for line in model.layers:\n",
    "    if type(line) == nn.Linear:\n",
    "        print(line)\n",
    "        nn.init.xavier_uniform_(line.weight)"
   ]
  },
  {
   "cell_type": "code",
   "execution_count": 45,
   "metadata": {},
   "outputs": [],
   "source": [
    "# 将数据转化为tensor，并移动到cpu或cuda上\n",
    "\n",
    "train_features = torch.tensor(train_data.values, dtype=torch.float32, device=config['device'])\n",
    "train_num = train_features.shape[0]\n",
    "train_labels = torch.tensor(train_target.values, dtype=torch.float32, device=config['device'])\n",
    "\n",
    "validation_features = torch.tensor(validation_data.values, dtype=torch.float32, device=config['device'])\n",
    "validation_num = validation_features.shape[0]\n",
    "validation_labels = torch.tensor(validation_target.values, dtype=torch.float32, device=config['device'])"
   ]
  },
  {
   "cell_type": "code",
   "execution_count": 46,
   "metadata": {},
   "outputs": [
    {
     "data": {
      "text/plain": [
       "torch.Size([334])"
      ]
     },
     "execution_count": 46,
     "metadata": {},
     "output_type": "execute_result"
    }
   ],
   "source": [
    "# 特征长度\n",
    "train_features[1].shape"
   ]
  },
  {
   "cell_type": "code",
   "execution_count": 47,
   "metadata": {},
   "outputs": [],
   "source": [
    "# 定义损失函数和优化器\n",
    "criterion = nn.MSELoss()\n",
    "criterion.to(config['device'])\n",
    "optimizer = optim.Adam(model.parameters(), lr=config['learning_rate'])"
   ]
  },
  {
   "cell_type": "code",
   "execution_count": null,
   "metadata": {},
   "outputs": [
    {
     "name": "stdout",
     "output_type": "stream",
     "text": [
      "epoch:1 MAE: 5839.6888828695255, Validation_MAE: 5643.9656\n"
     ]
    },
    {
     "name": "stderr",
     "output_type": "stream",
     "text": [
      "/opt/conda/lib/python3.6/site-packages/torch/serialization.py:389: UserWarning: Couldn't retrieve source code for container of type Network. It won't be checked for correctness upon loading.\n",
      "  \"type \" + obj.__name__ + \". It won't be checked \"\n"
     ]
    },
    {
     "name": "stdout",
     "output_type": "stream",
     "text": [
      "epoch:2 MAE: 5150.214071232037, Validation_MAE: 4514.754\n",
      "epoch:3 MAE: 3854.4676308736316, Validation_MAE: 2975.5\n"
     ]
    }
   ],
   "source": [
    "# 开始训练\n",
    "\n",
    "mae_list = []\n",
    "\n",
    "for epoch in range(config['epoch']):\n",
    "    losses = []\n",
    "    model.train()\n",
    "    for i in range(0, train_num, config['batch_size']):\n",
    "        end = i + config['batch_size']\n",
    "        if i + config['batch_size'] > train_num-1:\n",
    "            end = train_num-1\n",
    "        mini_batch = train_features[i: end]\n",
    "        mini_batch_label = train_labels[i: end]\n",
    "        pred = model(mini_batch)\n",
    "        pred = pred.squeeze()\n",
    "        loss = criterion(pred, mini_batch_label)\n",
    "\n",
    "        if torch.isnan(loss):\n",
    "            break\n",
    "        mae = torch.abs(mini_batch_label-pred).sum()/(end-i)\n",
    "        losses.append(mae.item())\n",
    "        \n",
    "        optimizer.zero_grad()\n",
    "        loss.backward()\n",
    "        optimizer.step()\n",
    "    \n",
    "    model.eval()\n",
    "    pred = model(validation_features)\n",
    "    validation_mae = torch.abs(validation_labels-pred.squeeze()).sum().item()/validation_num\n",
    "    \n",
    "    mae_list.append((sum(losses)/len(losses), validation_mae))\n",
    "        \n",
    "    print(f\"epoch:{epoch + 1} MAE: {sum(losses)/len(losses)}, Validation_MAE: {validation_mae}\")\n",
    "    torch.save(model, 'model.pth')"
   ]
  },
  {
   "cell_type": "code",
   "execution_count": null,
   "metadata": {},
   "outputs": [],
   "source": [
    "x = np.arange(0, config['epoch'])\n",
    "y1, y2 = zip(*mae_list)\n",
    "plt.plot(x, y1, label='train')\n",
    "plt.plot(x, y2, label='valid')\n",
    "plt.legend()\n",
    "plt.show()"
   ]
  },
  {
   "cell_type": "code",
   "execution_count": null,
   "metadata": {},
   "outputs": [],
   "source": []
  },
  {
   "cell_type": "code",
   "execution_count": null,
   "metadata": {},
   "outputs": [],
   "source": []
  },
  {
   "cell_type": "code",
   "execution_count": null,
   "metadata": {},
   "outputs": [],
   "source": []
  },
  {
   "cell_type": "code",
   "execution_count": null,
   "metadata": {},
   "outputs": [],
   "source": []
  },
  {
   "cell_type": "code",
   "execution_count": null,
   "metadata": {},
   "outputs": [],
   "source": []
  },
  {
   "cell_type": "code",
   "execution_count": null,
   "metadata": {},
   "outputs": [],
   "source": []
  }
 ],
 "metadata": {
  "kernelspec": {
   "display_name": "Python 3",
   "language": "python",
   "name": "python3"
  },
  "language_info": {
   "codemirror_mode": {
    "name": "ipython",
    "version": 3
   },
   "file_extension": ".py",
   "mimetype": "text/x-python",
   "name": "python",
   "nbconvert_exporter": "python",
   "pygments_lexer": "ipython3",
   "version": "3.6.10"
  }
 },
 "nbformat": 4,
 "nbformat_minor": 5
}
