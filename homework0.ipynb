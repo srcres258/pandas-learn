{
 "cells": [
  {
   "cell_type": "code",
   "id": "initial_id",
   "metadata": {
    "collapsed": true,
    "ExecuteTime": {
     "end_time": "2024-07-11T12:11:28.551292Z",
     "start_time": "2024-07-11T12:11:28.546145Z"
    }
   },
   "source": [
    "jjcfb = \"\"\n",
    "\n",
    "for i in range(1, 10):\n",
    "    for j in range(1, i + 1):\n",
    "        res = i * j\n",
    "        jjcfb += f\"{j}x{i}={res} \"\n",
    "    jjcfb = jjcfb[:-1]\n",
    "    jjcfb += '\\n'"
   ],
   "outputs": [],
   "execution_count": 1
  },
  {
   "metadata": {
    "ExecuteTime": {
     "end_time": "2024-07-11T12:11:35.632863Z",
     "start_time": "2024-07-11T12:11:35.629652Z"
    }
   },
   "cell_type": "code",
   "source": "print(jjcfb)",
   "id": "cd0697b22de3962b",
   "outputs": [
    {
     "name": "stdout",
     "output_type": "stream",
     "text": [
      "1x1=1\n",
      "1x2=2 2x2=4\n",
      "1x3=3 2x3=6 3x3=9\n",
      "1x4=4 2x4=8 3x4=12 4x4=16\n",
      "1x5=5 2x5=10 3x5=15 4x5=20 5x5=25\n",
      "1x6=6 2x6=12 3x6=18 4x6=24 5x6=30 6x6=36\n",
      "1x7=7 2x7=14 3x7=21 4x7=28 5x7=35 6x7=42 7x7=49\n",
      "1x8=8 2x8=16 3x8=24 4x8=32 5x8=40 6x8=48 7x8=56 8x8=64\n",
      "1x9=9 2x9=18 3x9=27 4x9=36 5x9=45 6x9=54 7x9=63 8x9=72 9x9=81\n",
      "\n"
     ]
    }
   ],
   "execution_count": 3
  },
  {
   "metadata": {
    "ExecuteTime": {
     "end_time": "2024-07-11T12:12:15.024359Z",
     "start_time": "2024-07-11T12:12:15.018765Z"
    }
   },
   "cell_type": "code",
   "source": [
    "with open(\"jjcfb.txt\", \"w\") as f:\n",
    "    f.write(jjcfb)"
   ],
   "id": "e7cc2b42ec32fe1f",
   "outputs": [],
   "execution_count": 4
  },
  {
   "metadata": {
    "ExecuteTime": {
     "end_time": "2024-07-11T12:12:32.382372Z",
     "start_time": "2024-07-11T12:12:32.378263Z"
    }
   },
   "cell_type": "code",
   "source": [
    "with open(\"jjcfb.txt\", \"r\") as f:\n",
    "    content = f.read()\n",
    "print(content)"
   ],
   "id": "3e9298e49382830e",
   "outputs": [
    {
     "name": "stdout",
     "output_type": "stream",
     "text": [
      "1x1=1\n",
      "1x2=2 2x2=4\n",
      "1x3=3 2x3=6 3x3=9\n",
      "1x4=4 2x4=8 3x4=12 4x4=16\n",
      "1x5=5 2x5=10 3x5=15 4x5=20 5x5=25\n",
      "1x6=6 2x6=12 3x6=18 4x6=24 5x6=30 6x6=36\n",
      "1x7=7 2x7=14 3x7=21 4x7=28 5x7=35 6x7=42 7x7=49\n",
      "1x8=8 2x8=16 3x8=24 4x8=32 5x8=40 6x8=48 7x8=56 8x8=64\n",
      "1x9=9 2x9=18 3x9=27 4x9=36 5x9=45 6x9=54 7x9=63 8x9=72 9x9=81\n",
      "\n"
     ]
    }
   ],
   "execution_count": 5
  },
  {
   "metadata": {},
   "cell_type": "code",
   "outputs": [],
   "execution_count": null,
   "source": "",
   "id": "6aab69557aefa630"
  }
 ],
 "metadata": {
  "kernelspec": {
   "display_name": "Python 3",
   "language": "python",
   "name": "python3"
  },
  "language_info": {
   "codemirror_mode": {
    "name": "ipython",
    "version": 2
   },
   "file_extension": ".py",
   "mimetype": "text/x-python",
   "name": "python",
   "nbconvert_exporter": "python",
   "pygments_lexer": "ipython2",
   "version": "2.7.6"
  }
 },
 "nbformat": 4,
 "nbformat_minor": 5
}
